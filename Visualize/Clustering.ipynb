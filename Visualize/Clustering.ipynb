{
 "cells": [
  {
   "cell_type": "code",
   "execution_count": null,
   "metadata": {},
   "outputs": [],
   "source": [
    "import pandas as pd\n",
    "import numpy as np\n",
    "outputs1=pd.read_pickle(\"./anotherpath/stats0.pkl\") #where anotherpath is the dump path folder from swav training\n",
    "outputs2=pd.read_pickle(\"./anotherpath/stats1.pkl\") # from 0-7 coz of each GPU output\n",
    "outputs3=pd.read_pickle(\"./anotherpath/stats2.pkl\")\n",
    "outputs4=pd.read_pickle(\"./anotherpath/stats3.pkl\")\n",
    "outputs5=pd.read_pickle(\"./anotherpath/stats4.pkl\")\n",
    "outputs6=pd.read_pickle(\"./anotherpath/stats5.pkl\")\n",
    "outputs7=pd.read_pickle(\"./anotherpath/stats6.pkl\")\n",
    "outputs8=pd.read_pickle(\"./anotherpath/stats7.pkl\")"
   ]
  },
  {
   "cell_type": "code",
   "execution_count": null,
   "metadata": {},
   "outputs": [],
   "source": [
    "# this code looks into encodings for the last epoch in each GPU and concatenates them together\n",
    "#  \n",
    "new_out=[]\n",
    "for j in outputs1[\"outputs\"][164]:\n",
    "    new_out.append(j.cpu().detach().numpy())\n",
    "for j in outputs2[\"outputs\"][164]:\n",
    "    new_out.append(j.cpu().detach().numpy())\n",
    "for j in outputs3[\"outputs\"][164]:\n",
    "    new_out.append(j.cpu().detach().numpy())\n",
    "for j in outputs4[\"outputs\"][164]:\n",
    "    new_out.append(j.cpu().detach().numpy())\n",
    "for j in outputs5[\"outputs\"][164]:\n",
    "    new_out.append(j.cpu().detach().numpy())\n",
    "for j in outputs6[\"outputs\"][164]:\n",
    "    new_out.append(j.cpu().detach().numpy())\n",
    "for j in outputs7[\"outputs\"][164]:\n",
    "    new_out.append(j.cpu().detach().numpy())\n",
    "for j in outputs8[\"outputs\"][164]:\n",
    "    new_out.append(j.cpu().detach().numpy())\n",
    "finalarray=np.concatenate(new_out,axis=0) # shape [n,2048] "
   ]
  },
  {
   "cell_type": "markdown",
   "metadata": {},
   "source": [
    "# Clustering"
   ]
  },
  {
   "cell_type": "code",
   "execution_count": null,
   "metadata": {},
   "outputs": [],
   "source": [
    "from sklearn.cluster import KMeans\n",
    "\n",
    "kmeans = KMeans(n_clusters=50, random_state=22) \n",
    "kmeans.fit(finalarray)"
   ]
  }
 ],
 "metadata": {
  "kernelspec": {
   "display_name": "Python 3.9.10 ('base')",
   "language": "python",
   "name": "python3"
  },
  "language_info": {
   "name": "python",
   "version": "3.9.10"
  },
  "orig_nbformat": 4,
  "vscode": {
   "interpreter": {
    "hash": "5e9f11f49cd656f291f5777c461e4288f6343aeff66d80fd968f2fc2025425e8"
   }
  }
 },
 "nbformat": 4,
 "nbformat_minor": 2
}
