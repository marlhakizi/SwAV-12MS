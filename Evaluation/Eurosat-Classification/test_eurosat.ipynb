{
 "cells": [
  {
   "cell_type": "code",
   "execution_count": 11,
   "metadata": {},
   "outputs": [],
   "source": [
    "\n",
    "import os\n",
    "from glob import glob\n",
    "import re\n",
    "import logging\n",
    "from tqdm import tqdm\n",
    "from itertools import chain\n",
    "\n",
    "import random\n",
    "import numpy as np\n",
    "import pandas as pd\n",
    "import matplotlib.pyplot as plt\n",
    "from sklearn.model_selection import train_test_split\n",
    "\n",
    "\n",
    "import torch\n",
    "from torch.utils.data import Dataset,DataLoader,random_split\n",
    "import torchvision.transforms as transforms\n",
    "from PIL import Image\n",
    "import albumentations as A\n",
    "\n",
    "from models import encoders, decoders\n",
    "from src import datasets, utils, metrics\n",
    "\n",
    "\n",
    "from torch import nn\n",
    "from torch.nn import functional as F"
   ]
  },
  {
   "cell_type": "code",
   "execution_count": 2,
   "metadata": {},
   "outputs": [],
   "source": [
    "import os\n",
    "import logging\n",
    "import numpy as np\n",
    "import pandas as pd\n",
    "import joblib\n",
    "import random\n",
    "from torchvision import transforms\n",
    "from natsort import natsorted\n",
    "import albumentations as A\n",
    "from albumentations.pytorch import ToTensorV2\n",
    "\n",
    "from sklearn.model_selection import train_test_split"
   ]
  },
  {
   "cell_type": "code",
   "execution_count": 6,
   "metadata": {},
   "outputs": [],
   "source": [
    "\n",
    "\"\"\"\n",
    "This function loads the data for Eurosat\n",
    "\"\"\"\n",
    "def _load_eurosat_data(normalization, evaluate, data_size=None, augmentations=False):\n",
    "    \n",
    "    if normalization == \"dataTwelve\":\n",
    "        # 12-channel files \n",
    "        data_path = \"/scratch/mh613/NewEuroSat/\"\n",
    "    else:\n",
    "        # rgb files\n",
    "        data_path = \"/scratch/yc506/NewEuroSat_rgb/\"\n",
    "    # a list of files in the data path \n",
    "    file_set = os.listdir(data_path)\n",
    "    \n",
    "    # train val test split \n",
    "    old_train_files, rem = train_test_split(file_set, test_size=0.2, random_state = 123)\n",
    "    # 11736 is the number of training file we will have 0.8 *14k \n",
    "    if data_size!= 11736: \n",
    "        train_files = random.sample(old_train_files, data_size)\n",
    "    else: \n",
    "        train_files = old_train_files\n",
    "    test_files, val_files = train_test_split(rem, test_size=0.5, random_state = 123)\n",
    "    \n",
    "    if normalization != \"dataTwelve\":\n",
    "        # mean and std for RGB data\n",
    "        normalize = {\"mean\": [44.04389265, 49.10599284, 31.27095929], \"std\": [41.61620523, 38.21741166, 31.96225992]}\n",
    "    elif normalization == \"dataTwelve\":\n",
    "            ################ to be changed for eurosat 12-channel values #############\n",
    "            normalize = {\n",
    "            \"mean\": [\n",
    "                616.95329649,\n",
    "                867.83717358,\n",
    "                842.86595966,\n",
    "                1285.77942965,\n",
    "                2308.69512439,\n",
    "                2650.97561424,\n",
    "                2791.82155065,\n",
    "                2832.1399957,\n",
    "                1967.90223554,\n",
    "                1343.787036,\n",
    "                -11.92402614,\n",
    "                -18.43180948,\n",
    "            ],\n",
    "            \"std\": [\n",
    "                850.36421999,\n",
    "                837.83275801,\n",
    "                931.51194456,\n",
    "                920.84945907,\n",
    "                1222.92903347,\n",
    "                1426.90538092,\n",
    "                1514.24879853,\n",
    "                1491.36178338,\n",
    "                1063.20240616,\n",
    "                917.98727869,\n",
    "                5.22952371,\n",
    "                5.06522831,\n",
    "            ],\n",
    "        }\n",
    "            ################ to be changed for eurosat 12-channel values #############\n",
    "    tr_normalize = transforms.Normalize(mean=normalize[\"mean\"], std=normalize[\"std\"])\n",
    "    train_transform = transforms.Compose([transforms.ToTensor(), tr_normalize])\n",
    "    test_transform = transforms.Compose([transforms.ToTensor(), tr_normalize])\n",
    "    if augmentations:\n",
    "        print(\"Adding augmentations...\")\n",
    "        aug = A.Compose(\n",
    "            [\n",
    "                A.RandomRotate90(),\n",
    "                A.VerticalFlip(),\n",
    "                A.HorizontalFlip(),\n",
    "                A.Transpose(),\n",
    "                A.Normalize(mean=normalize[\"mean\"], std=normalize[\"std\"]),\n",
    "                ToTensorV2(),\n",
    "            ]\n",
    "        )\n",
    "\n",
    "    logging.debug(\"Creating the training dataset.\")\n",
    "    if augmentations:\n",
    "        train_dataset = Eurosat(\n",
    "            data_path,\n",
    "            train_files,\n",
    "            transform=train_transform,\n",
    "            augmentations=aug,\n",
    "        )\n",
    "    else:\n",
    "        if normalization == \"dataTwelve\":\n",
    "            train_dataset = Eurosat12(\n",
    "                data_path, train_files, transform=train_transform\n",
    "            )\n",
    "        else:\n",
    "            train_dataset = Eurosat(\n",
    "                data_path, train_files, transform=train_transform\n",
    "            )\n",
    "\n",
    "\n",
    "    logging.debug(\"Creating the test dataset.\")\n",
    "    if normalization == \"dataTwelve\":\n",
    "        val_dataset = Eurosat12(\n",
    "            data_path, val_files, transform=test_transform\n",
    "        )\n",
    "        test_dataset = Eurosat12(\n",
    "            data_path, test_files, transform=test_transform\n",
    "        )\n",
    "    else:\n",
    "        val_dataset = Eurosat(\n",
    "            data_path, val_files, transform=test_transform\n",
    "        )\n",
    "        # Return the training and test dataset\n",
    "        test_dataset = Eurosat(\n",
    "            data_path, test_files, transform=test_transform\n",
    "        )\n",
    "\n",
    "    #train_dataset = Eurosat(data_path, train_files, transform=train_transform)\n",
    "    #val_dataset = Eurosat(data_path, val_files, transform=test_transform)\n",
    "\n",
    "\n",
    "\n",
    "    # Return the training and test dataset\n",
    " #  test_dataset = Eurosat(data_path, test_files, transform=test_transform)\n",
    "    if evaluate:\n",
    "        return test_dataset\n",
    "\n",
    "    return train_dataset, val_dataset"
   ]
  },
  {
   "cell_type": "code",
   "execution_count": 3,
   "metadata": {},
   "outputs": [
    {
     "name": "stdout",
     "output_type": "stream",
     "text": [
      "False\n"
     ]
    }
   ],
   "source": [
    "train_data,test_data= datasets._load_eurosat_data(\n",
    "       normalization=\"dataTwelve\",augmentations=False ,size=500,evaluate=False\n",
    "    )"
   ]
  },
  {
   "cell_type": "code",
   "execution_count": 3,
   "metadata": {},
   "outputs": [
    {
     "ename": "NameError",
     "evalue": "name '_load_eurosat_data' is not defined",
     "output_type": "error",
     "traceback": [
      "\u001b[0;31m---------------------------------------------------------------------------\u001b[0m",
      "\u001b[0;31mNameError\u001b[0m                                 Traceback (most recent call last)",
      "Cell \u001b[0;32mIn[3], line 1\u001b[0m\n\u001b[0;32m----> 1\u001b[0m train_data, test_data \u001b[39m=\u001b[39m _load_eurosat_data(\n\u001b[1;32m      2\u001b[0m     normalization\u001b[39m=\u001b[39m\u001b[39m\"\u001b[39m\u001b[39mdataTwelve\u001b[39m\u001b[39m\"\u001b[39m,\n\u001b[1;32m      3\u001b[0m     augmentations\u001b[39m=\u001b[39m\u001b[39mFalse\u001b[39;00m,\n\u001b[1;32m      4\u001b[0m     data_size\u001b[39m=\u001b[39m\u001b[39m20\u001b[39m,\n\u001b[1;32m      5\u001b[0m     evaluate\u001b[39m=\u001b[39m\u001b[39mFalse\u001b[39;00m,\n\u001b[1;32m      6\u001b[0m )\n",
      "\u001b[0;31mNameError\u001b[0m: name '_load_eurosat_data' is not defined"
     ]
    }
   ],
   "source": [
    "train_data, test_data = _load_eurosat_data(\n",
    "    normalization=\"dataTwelve\",\n",
    "    augmentations=False,\n",
    "    data_size=20,\n",
    "    evaluate=False,\n",
    ")\n",
    "# train_data, test_data = _load_eurosat_data(\n",
    "#     normalization=\"data\",\n",
    "#     augmentations=False,\n",
    "#     data_size=20,\n",
    "#     evaluate=False,\n",
    "# )"
   ]
  },
  {
   "cell_type": "code",
   "execution_count": 4,
   "metadata": {},
   "outputs": [],
   "source": [
    "train_loader = DataLoader(\n",
    "    train_data, batch_size=20, shuffle=True)\n",
    "test_loader = DataLoader(\n",
    "    test_data, batch_size=20, shuffle=False)"
   ]
  },
  {
   "cell_type": "code",
   "execution_count": 18,
   "metadata": {},
   "outputs": [
    {
     "name": "stderr",
     "output_type": "stream",
     "text": [
      "WARNING:rasterio._env:CPLE_AppDefined in /scratch/mh613/NewEuroSat/SeaLake_99.tif: TIFFReadDirectory:Sum of Photometric type-related color channels and ExtraSamples doesn't match SamplesPerPixel. Defining non-color channels as ExtraSamples.\n",
      "Warning 1: TIFFReadDirectory:Sum of Photometric type-related color channels and ExtraSamples doesn't match SamplesPerPixel. Defining non-color channels as ExtraSamples.\n",
      "WARNING:rasterio._env:CPLE_AppDefined in /scratch/mh613/NewEuroSat/SeaLake_99.tif: TIFFReadDirectory:Sum of Photometric type-related color channels and ExtraSamples doesn't match SamplesPerPixel. Defining non-color channels as ExtraSamples.\n",
      "Warning 1: TIFFReadDirectory:Sum of Photometric type-related color channels and ExtraSamples doesn't match SamplesPerPixel. Defining non-color channels as ExtraSamples.\n"
     ]
    }
   ],
   "source": [
    "# Define the path to your image folder and file names after train/test split\n",
    "from src.tasks.eurosat_swav12 import Eurosat12\n",
    "\n",
    "normalize = {\n",
    "                \"mean\": [\n",
    "                    0.04560511,\n",
    "                    0.07832425,\n",
    "                    0.07050303,\n",
    "                    0.13134229,\n",
    "                    0.29649284,\n",
    "                    0.35478109,\n",
    "                    0.37182458,\n",
    "                    0.38193435,\n",
    "                    0.22069953,\n",
    "                    0.13402856,\n",
    "                    -12.5696884,\n",
    "                    -18.2610512,\n",
    "                ],\n",
    "                \"std\": [\n",
    "                    0.06170507,\n",
    "                    0.06207748,\n",
    "                    0.07390513,\n",
    "                    0.06927535,\n",
    "                    0.0757848,\n",
    "                    0.09344653,\n",
    "                    0.09964956,\n",
    "                    0.09542389,\n",
    "                    0.07652418,\n",
    "                    0.0762175,\n",
    "                    4.31484634,\n",
    "                    3.4123834,\n",
    "                ],\n",
    "            }\n",
    "            ################ to be changed for eurosat 12-channel values #############\n",
    "\n",
    "\n",
    "tr_normalize = transforms.Normalize(mean=normalize[\"mean\"], std=normalize[\"std\"])\n",
    "train_transform = transforms.Compose([ tr_normalize])\n",
    "path = \"/scratch/mh613/NewEuroSat/\"\n",
    "train_files = [\"SeaLake_99.tif\", \"SeaLake_99.tif\"]\n",
    "\n",
    "\n",
    "\n",
    "# Create the train and test datasets using Eurosat12 class\n",
    "train_data = Eurosat12(path, train_files, transform=train_transform)\n",
    "train_loader = DataLoader(train_data, batch_size=1, shuffle=True)\n",
    "for batch_idx, (data, target) in enumerate(train_loader):\n",
    "    \n",
    "    assert data.shape[0] == 1, f\"Batch {batch_idx} has size {data.shape[0]}, expected {batch_size}\""
   ]
  },
  {
   "cell_type": "code",
   "execution_count": 9,
   "metadata": {},
   "outputs": [],
   "source": [
    "from torch import nn\n",
    "from torch.nn import functional as F\n",
    "\n",
    "####### Linear evaluation class ############\n",
    "####### reference : SwAV github \n",
    "class RegLog(nn.Module):\n",
    "    \"\"\"Creates logistic regression on top of frozen features\"\"\"\n",
    "\n",
    "    def __init__(self, num_labels, global_avg=False, use_bn=True):\n",
    "        super(RegLog, self).__init__()\n",
    "        self.bn = None\n",
    "        if global_avg:\n",
    "            s = 2048\n",
    "            self.av_pool = nn.AdaptiveAvgPool2d((1, 1))\n",
    "        else:\n",
    "            s = 8192\n",
    "            self.av_pool = nn.AvgPool2d(6, stride=1)\n",
    "            if use_bn:\n",
    "                self.bn = nn.BatchNorm2d(2048)\n",
    "        self.linear = nn.Linear(s, num_labels)\n",
    "        self.linear.weight.data.normal_(mean=0.0, std=0.01)\n",
    "        self.linear.bias.data.zero_()\n",
    "\n",
    "    def forward(self, x):\n",
    "        # average pool the final feature map\n",
    "        x = self.av_pool(x)\n",
    "\n",
    "        # optional BN\n",
    "        if self.bn is not None:\n",
    "            x = self.bn(x)\n",
    "\n",
    "        # flatten\n",
    "        x = x.view(x.size(0), -1)\n",
    "\n",
    "        # linear layer\n",
    "        return self.linear(x)"
   ]
  },
  {
   "cell_type": "code",
   "execution_count": 6,
   "metadata": {},
   "outputs": [
    {
     "name": "stdout",
     "output_type": "stream",
     "text": [
      "Loading 12 channel swav pretrained weights.\n"
     ]
    }
   ],
   "source": [
    "encoder = encoders.load(\"swav-12\")\n",
    "#encoder=encoders.load(\"swav-b3\")\n",
    "decoder = RegLog(10)\n"
   ]
  },
  {
   "cell_type": "code",
   "execution_count": 18,
   "metadata": {},
   "outputs": [
    {
     "name": "stdout",
     "output_type": "stream",
     "text": [
      "Device is cuda\n"
     ]
    },
    {
     "ename": "NameError",
     "evalue": "name 'encoder' is not defined",
     "output_type": "error",
     "traceback": [
      "\u001b[0;31m---------------------------------------------------------------------------\u001b[0m",
      "\u001b[0;31mNameError\u001b[0m                                 Traceback (most recent call last)",
      "Cell \u001b[0;32mIn[18], line 13\u001b[0m\n\u001b[1;32m     11\u001b[0m \u001b[39m#DEVICE = set_device('cpu')\u001b[39;00m\n\u001b[1;32m     12\u001b[0m \u001b[39mprint\u001b[39m(\u001b[39m\"\u001b[39m\u001b[39mDevice is \u001b[39m\u001b[39m\"\u001b[39m \u001b[39m+\u001b[39m DEVICE)\n\u001b[0;32m---> 13\u001b[0m encoder \u001b[39m=\u001b[39m encoder\u001b[39m.\u001b[39mto(DEVICE)\n\u001b[1;32m     14\u001b[0m decoder \u001b[39m=\u001b[39m decoder\u001b[39m.\u001b[39mto(DEVICE)\n\u001b[1;32m     16\u001b[0m params \u001b[39m=\u001b[39m decoder\u001b[39m.\u001b[39mparameters()\n",
      "\u001b[0;31mNameError\u001b[0m: name 'encoder' is not defined"
     ]
    }
   ],
   "source": [
    "global DEVICE\n",
    "import torch\n",
    "def set_device(d):\n",
    "    if d == \"auto\":\n",
    "        device = \"cuda\" if torch.cuda.is_available() else \"cpu\"\n",
    "    else:\n",
    "        device = d\n",
    "    return device\n",
    "\n",
    "DEVICE = set_device(\"auto\")\n",
    "#DEVICE = set_device('cpu')\n",
    "print(\"Device is \" + DEVICE)\n",
    "encoder = encoder.to(DEVICE)\n",
    "decoder = decoder.to(DEVICE)\n",
    "\n",
    "params = decoder.parameters()"
   ]
  },
  {
   "cell_type": "code",
   "execution_count": 10,
   "metadata": {},
   "outputs": [],
   "source": [
    "def save_model(enc, dec, dump_path, name):\n",
    "    torch.save(enc.state_dict(), os.path.join(dump_path, \"enc_\" + name))\n",
    "    torch.save(dec.state_dict(), os.path.join(dump_path, \"dec_\" + name))\n",
    "\n",
    "def train(loader, encoder, decoder, optimizer, criterion, fine_tune_encoder = False):\n",
    "\n",
    "    if fine_tune_encoder:\n",
    "        encoder.train()\n",
    "    else:\n",
    "        encoder.eval()\n",
    "\n",
    "    decoder.train()\n",
    "    criterion = criterion.to(DEVICE)\n",
    "    avg_loss = utils.AverageMeter()\n",
    "    num_batches = len(loader)\n",
    "    for batch_idx, (inp, target) in enumerate(loader):\n",
    "        if batch_idx % 10 == 0:\n",
    "            print(f\"Beginning batch {batch_idx} of {num_batches}\")\n",
    "        logging.debug(f\"Training batch {batch_idx}...\")\n",
    "        # Move to the GPU\n",
    "        inp = inp.to(DEVICE)\n",
    "        target = target.to(DEVICE)\n",
    "\n",
    "        if fine_tune_encoder:\n",
    "            output = encoder(inp)\n",
    "        else:\n",
    "            with torch.no_grad():\n",
    "                output = encoder(inp)\n",
    "        ################### The change I'm not super sure #####################\n",
    "        output = decoder(output[0])\n",
    "        ########################################################################\n",
    "        loss = criterion(output, target)\n",
    "\n",
    "        if batch_idx % 10 == 0:\n",
    "            print(f\"\\t Train Loss: {loss.item()}\")\n",
    "        # Calculate the gradients\n",
    "        optimizer.zero_grad()\n",
    "        loss.backward()\n",
    "        avg_loss.update(loss.item(), inp.size(0))\n",
    "        # Step forward\n",
    "        optimizer.step()\n",
    "\n",
    "    return avg_loss.avg"
   ]
  },
  {
   "cell_type": "code",
   "execution_count": 11,
   "metadata": {},
   "outputs": [],
   "source": [
    "\n",
    "@torch.no_grad()\n",
    "def test(data_loader, encoder, decoder, criterion):\n",
    "\n",
    "    encoder.eval()\n",
    "    decoder.eval()\n",
    "    criterion = criterion.to(DEVICE)\n",
    "    avg_loss = utils.AverageMeter()\n",
    "    for batch_idx, (inp, target) in enumerate(data_loader):\n",
    "        # Move to the GPU\n",
    "        if batch_idx % 100 == 0:\n",
    "            print(f\"Testing batch {batch_idx}\")\n",
    "        inp = inp.to(DEVICE)\n",
    "        target = target.to(DEVICE)\n",
    "\n",
    "        # Compute output\n",
    "        \n",
    "        ################### The change I'm not super sure #####################\n",
    "        output = encoder(inp)\n",
    "        output = decoder(output[0])\n",
    "        ########################################################################\n",
    "        loss = criterion(output, target)\n",
    "        avg_loss.update(loss.item(), inp.size(0))\n",
    "        if batch_idx % 10 == 0:\n",
    "            print(f\"\\t Test Loss: {loss.item()}\")\n",
    "\n",
    "    return avg_loss.avg"
   ]
  },
  {
   "cell_type": "code",
   "execution_count": 13,
   "metadata": {},
   "outputs": [],
   "source": [
    "# probably needs to change\n",
    "optimizer = torch.optim.Adam(\n",
    "    decoder.parameters(), lr=1e-3, weight_decay=0)"
   ]
  },
  {
   "cell_type": "code",
   "execution_count": null,
   "metadata": {},
   "outputs": [],
   "source": [
    "criterion =  nn.CrossEntropyLoss().to(DEVICE)\n",
    "monitor_pth = \"../df\"#\"/home/yc506/ssrs/experiments/results/eurosat_resize_swav\"\n",
    "\n",
    "epoch_timer = utils.Timer()\n",
    "monitor = utils.PerformanceMonitor(monitor_pth)\n",
    "best_test_loss = float(\"inf\")\n",
    "# do 100 epochs\n",
    "for epoch in range(100):\n",
    "    print(f\"Beginning epoch {epoch}\")\n",
    "    logging.info(f\"Beginning epoch {epoch}...\")\n",
    "\n",
    "    loss = train(train_loader, encoder, decoder, optimizer, criterion)\n",
    "    monitor.log(epoch, \"train\", loss)\n",
    "\n",
    "    loss = test(test_loader, encoder, decoder, criterion)\n",
    "    monitor.log(epoch, \"val\", loss)\n",
    "    logging.info(\n",
    "        f\"Epoch {epoch} took {epoch_timer.minutes_elapsed()} minutes.\")\n",
    "    epoch_timer.reset()\n",
    "\n",
    "    if loss < best_test_loss:\n",
    "        logging.info(\"Saving model\")\n",
    "        save_model(encoder, decoder, monitor_pth, \"best.pt\")\n",
    "        best_test_loss = loss\n",
    "save_model(encoder, decoder, monitor_pth, \"final.pt\")"
   ]
  },
  {
   "cell_type": "code",
   "execution_count": 6,
   "metadata": {},
   "outputs": [
    {
     "data": {
      "image/png": "[encoded data removed]",
      "text/plain": [
       "<Figure size 640x480 with 1 Axes>"
      ]
     },
     "metadata": {},
     "output_type": "display_data"
    }
   ],
   "source": [
    "train_progress = pd.read_csv(os.path.join(\"../df\",\"performance.csv\"))\n",
    "fig,ax = plt.subplots()\n",
    "ax.plot(train_progress.epoch[train_progress[\"stage\"]==\"train\"],train_progress.loss[train_progress[\"stage\"]==\"train\"],label=\"train\")\n",
    "ax.plot(train_progress.epoch[train_progress[\"stage\"]==\"val\"],train_progress.loss[train_progress[\"stage\"]==\"val\"],label=\"validation\")\n",
    "ax.set_xlabel(\"epoch\")\n",
    "ax.set_ylabel(\"Cross entropy loss\")\n",
    "ax.legend()\n",
    "plt.show()"
   ]
  },
  {
   "cell_type": "code",
   "execution_count": 33,
   "metadata": {},
   "outputs": [],
   "source": [
    "bestOrFinal = \"final\"\n",
    "weights_folder = \"../dr/500/Eurosat_12/1\"#\"results/field_delineation_10ep/\" #\n",
    "encoderWeights_path = os.path.join(weights_folder,f\"enc_{bestOrFinal}.pt\")\n",
    "decoderWeights_path = os.path.join(weights_folder,f\"dec_{bestOrFinal}.pt\")"
   ]
  },
  {
   "attachments": {},
   "cell_type": "markdown",
   "metadata": {},
   "source": [
    "# EVALUATE"
   ]
  },
  {
   "cell_type": "code",
   "execution_count": 39,
   "metadata": {},
   "outputs": [
    {
     "name": "stdout",
     "output_type": "stream",
     "text": [
      "False\n"
     ]
    }
   ],
   "source": [
    "test_data= datasets._load_eurosat_data(\n",
    "       normalization=\"data\",augmentations=False ,size=500,evaluate=True\n",
    "    )\n",
    "test_loader = DataLoader(\n",
    "    test_data, batch_size=20, shuffle=False)"
   ]
  },
  {
   "cell_type": "code",
   "execution_count": 40,
   "metadata": {},
   "outputs": [
    {
     "name": "stdout",
     "output_type": "stream",
     "text": [
      "Loading swav-b3.\n"
     ]
    }
   ],
   "source": [
    "encoder_trained =encoder = encoders.load(\"swav-b3\")\n",
    "decoder_trained = RegLog(10)\n",
    "decoder_trained.load_state_dict(torch.load(decoderWeights_path))\n",
    "encoder_trained = encoder_trained.eval()\n",
    "decoder_trained = decoder_trained.eval()"
   ]
  },
  {
   "cell_type": "code",
   "execution_count": 41,
   "metadata": {},
   "outputs": [],
   "source": [
    "dataloader = test_loader\n",
    "encoder = encoder_trained.to(DEVICE)\n",
    "decoder = decoder_trained.to(DEVICE)\n"
   ]
  },
  {
   "cell_type": "code",
   "execution_count": 42,
   "metadata": {},
   "outputs": [],
   "source": [
    "def get_prediction_accuracy(dataloader, encoder, decoder):\n",
    "    #preds = []\n",
    "    #targets = []\n",
    "    correct = 0\n",
    "    total = 0\n",
    "    for i, (img, label) in enumerate(dataloader):\n",
    "        # Load through the model.\n",
    "        img = img.to(DEVICE)\n",
    "        label = label.to(DEVICE)\n",
    "        with torch.no_grad():\n",
    "            output = encoder(img)\n",
    "            output = decoder(output[0])\n",
    "            pred_prob = torch.sigmoid(output) #activation function sigmoid function\n",
    "            _, predicted = torch.max(pred_prob, 1) # the maximum probability class will be picked as our prediction \n",
    "            total += label.size(0) # the total number of prediction \n",
    "            correct += (predicted == label).sum().item() \n",
    "    return correct/total "
   ]
  },
  {
   "cell_type": "code",
   "execution_count": 43,
   "metadata": {},
   "outputs": [
    {
     "data": {
      "text/plain": [
       "0.09815950920245399"
      ]
     },
     "execution_count": 43,
     "metadata": {},
     "output_type": "execute_result"
    }
   ],
   "source": [
    "get_prediction_accuracy(test_loader, encoder, decoder)"
   ]
  },
  {
   "cell_type": "code",
   "execution_count": null,
   "metadata": {},
   "outputs": [],
   "source": []
  }
 ],
 "metadata": {
  "kernelspec": {
   "display_name": "ee2",
   "language": "python",
   "name": "python3"
  },
  "language_info": {
   "codemirror_mode": {
    "name": "ipython",
    "version": 3
   },
   "file_extension": ".py",
   "mimetype": "text/x-python",
   "name": "python",
   "nbconvert_exporter": "python",
   "pygments_lexer": "ipython3",
   "version": "3.10.5"
  },
  "orig_nbformat": 4,
  "vscode": {
   "interpreter": {
    "hash": "19cfa3a4ac87f57fe9ab6461b169314737de0bb1378bc7c3ff595bbd999a2049"
   }
  }
 },
 "nbformat": 4,
 "nbformat_minor": 2
}
